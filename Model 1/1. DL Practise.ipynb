{
 "cells": [
  {
   "cell_type": "code",
   "execution_count": 1,
   "id": "7dc67868-cfb3-42f2-9a3f-5371301085dd",
   "metadata": {},
   "outputs": [],
   "source": [
    "import numpy as np\n",
    "import pandas as pd\n",
    "from sklearn.preprocessing import StandardScaler\n",
    "from sklearn.model_selection import train_test_split\n",
    "import matplotlib.pyplot as plt"
   ]
  },
  {
   "cell_type": "code",
   "execution_count": 2,
   "id": "cb27e89d-7627-48da-8e38-770aeb830d2b",
   "metadata": {},
   "outputs": [],
   "source": [
    "data = pd.read_csv('b_c_d.csv')\n",
    "data['diagnosis'] = data['diagnosis'].map({'M':1,'B':0})\n",
    "x = data.drop(['diagnosis'],axis = 1).values\n",
    "y = data['diagnosis'].values.reshape(-1,1)"
   ]
  },
  {
   "cell_type": "code",
   "execution_count": 3,
   "id": "2a9a8c3b-f255-4b97-afa6-c3a8740624c4",
   "metadata": {},
   "outputs": [],
   "source": [
    "scaler = StandardScaler()\n",
    "x_scaled = scaler.fit_transform(x)"
   ]
  },
  {
   "cell_type": "code",
   "execution_count": 4,
   "id": "7846c2ad-b0c5-4cff-89b2-a32e13ebdbe9",
   "metadata": {},
   "outputs": [],
   "source": [
    "x_train,x_test,y_train,y_test = train_test_split(x_scaled,y,test_size = 0.2,random_state = 42)\n",
    "input_size = x_train.shape[1]\n",
    "hidden_size = 100\n",
    "output_size = 1"
   ]
  },
  {
   "cell_type": "code",
   "execution_count": 33,
   "id": "6436dba9-7388-4a3c-8f5c-6e6f5905209b",
   "metadata": {},
   "outputs": [],
   "source": [
    "def initialize_parameters(input_size,hidden_size,output_size):\n",
    "    np.random.seed(42)\n",
    "    w1 = np.random.randn(input_size,hidden_size)*0.01\n",
    "    b1 = np.zeros((1,hidden_size))\n",
    "    w2 = np.random.randn(hidden_size,output_size)*0.01\n",
    "    b2 = np.zeros((1,output_size))\n",
    "    return w1,b1,w2,b2"
   ]
  },
  {
   "cell_type": "code",
   "execution_count": 11,
   "id": "91eaa30d-20c1-41d7-b05f-a286d729d9b5",
   "metadata": {},
   "outputs": [],
   "source": [
    "def sigmoid(z):\n",
    "    return 1/(1+np.exp(-z))\n",
    "def sigmoid_derivative(z):\n",
    "    return z*(1-z)\n",
    "def relu(z):\n",
    "    return np.maximum(0,z)\n",
    "def relu_derivative(z):\n",
    "    return np.where(z>0,1,0)"
   ]
  },
  {
   "cell_type": "code",
   "execution_count": 13,
   "id": "79c62515-59d0-4468-b979-669d7a76effb",
   "metadata": {},
   "outputs": [],
   "source": [
    "def forward_propagation(x,w1,b1,w2,b2):\n",
    "    z1 = np.dot(x,w1) + b1\n",
    "    a1 = relu(z1)\n",
    "    z2 = np.dot(a1,w2) + b2\n",
    "    a2 = relu(z2)\n",
    "    return z1,a1,z2,a2"
   ]
  },
  {
   "cell_type": "code",
   "execution_count": 41,
   "id": "729c80d6-7559-4571-882f-e82251ccda4d",
   "metadata": {},
   "outputs": [],
   "source": [
    "def binary_cross_entropy(y,a2):\n",
    "    a2 = np.clip(a2, 1e-10, 1 - 1e-10)\n",
    "    bce = np.mean(-(y*np.log(a2) + (1-y)*np.log(1-a2)))\n",
    "    return bce"
   ]
  },
  {
   "cell_type": "code",
   "execution_count": 17,
   "id": "37745181-51f8-406c-b558-dfd5aadb9518",
   "metadata": {},
   "outputs": [],
   "source": [
    "def backward_propagation(x,y,z1,a1,a2,w2):\n",
    "    m = x.shape[0]\n",
    "    dz2 = a2 - y\n",
    "    dw2 = (1/m) * np.dot(a1.T,dz2)\n",
    "    db2 = (1/m) * np.sum(dz2, axis = 0)\n",
    "\n",
    "    da1 = np.dot(dz2,w2.T)\n",
    "    dz1 = da1 * relu_derivative(z1)\n",
    "    dw1 = (1/m) * np.dot(x.T,dz1)\n",
    "    db1 = (1/m) * np.sum(dz1, axis = 0)\n",
    "\n",
    "    return dw1,db1,dw2,db2"
   ]
  },
  {
   "cell_type": "code",
   "execution_count": 19,
   "id": "f2599afc-a517-4ab7-9794-8514c190eff5",
   "metadata": {},
   "outputs": [],
   "source": [
    "def update_parameters(w1,b1,w2,b2,dw1,db1,dw2,db2,learning_rate):\n",
    "    w1 = w1 - learning_rate*dw1\n",
    "    b1 = b1 - learning_rate*db1\n",
    "    w2 = w2 - learning_rate*dw2\n",
    "    b2 = b2 - learning_rate*db2\n",
    "    return w1,b1,w2,b2"
   ]
  },
  {
   "cell_type": "code",
   "execution_count": 111,
   "id": "0c08840d-c709-4402-a8ce-24b9424c7e67",
   "metadata": {},
   "outputs": [],
   "source": [
    "def train_model(x,y,learning_rate,epochs):\n",
    "    input_size = x.shape[1]\n",
    "    hidden_size = 100\n",
    "    output_size = 1\n",
    "    costs = []\n",
    "    w1,b1,w2,b2 = initialize_parameters(input_size,hidden_size,output_size)\n",
    "    for i in range(1,epochs+1):\n",
    "        z1,a1,z2,a2 = forward_propagation(x,w1,b1,w2,b2)\n",
    "        cost = binary_cross_entropy(y,a2)\n",
    "        costs.append(cost)\n",
    "        dw1,db1,dw2,db2 = backward_propagation(x,y,z1,a1,a2,w2)\n",
    "        w1,b1,w2,b2 = update_parameters(w1,b1,w2,b2,dw1,db1,dw2,db2,learning_rate)\n",
    "        if i == 1 or i%100 == 0:\n",
    "            print('Cost at ',i,' epoch = ',cost)\n",
    "    return costs"
   ]
  },
  {
   "cell_type": "code",
   "execution_count": 113,
   "id": "6abd26be-b1b4-4477-9e78-d27c04d58f1d",
   "metadata": {},
   "outputs": [
    {
     "name": "stdout",
     "output_type": "stream",
     "text": [
      "Cost at  1  epoch =  9.60883405318576\n",
      "Cost at  100  epoch =  0.039343933585217386\n",
      "Cost at  200  epoch =  0.022117206917947503\n",
      "Cost at  300  epoch =  0.00790879658386021\n",
      "Cost at  400  epoch =  0.003439136934771043\n",
      "Cost at  500  epoch =  0.0019367814471528157\n",
      "Cost at  600  epoch =  0.0009027489564200009\n",
      "Cost at  700  epoch =  0.0007445904297509453\n",
      "Cost at  800  epoch =  0.0007145250761291149\n",
      "Cost at  900  epoch =  0.0006375258797728899\n",
      "Cost at  1000  epoch =  0.0005593439269929056\n"
     ]
    }
   ],
   "source": [
    "costs = train_model(x_train,y_train,learning_rate = 2,epochs = 1000)"
   ]
  },
  {
   "cell_type": "code",
   "execution_count": 119,
   "id": "65fb06e3-80a3-4ded-8e00-3fab8d9f4f54",
   "metadata": {},
   "outputs": [
    {
     "data": {
      "image/png": "[encoded data removed]",
      "text/plain": [
       "<Figure size 640x480 with 1 Axes>"
      ]
     },
     "metadata": {},
     "output_type": "display_data"
    }
   ],
   "source": [
    "t = np.arange(0,1000)\n",
    "plt.plot(t,costs)\n",
    "plt.show()"
   ]
  },
  {
   "cell_type": "code",
   "execution_count": null,
   "id": "36ac587f-88a0-48a5-bccf-2e282e419865",
   "metadata": {},
   "outputs": [],
   "source": []
  }
 ],
 "metadata": {
  "kernelspec": {
   "display_name": "Python 3 (ipykernel)",
   "language": "python",
   "name": "python3"
  },
  "language_info": {
   "codemirror_mode": {
    "name": "ipython",
    "version": 3
   },
   "file_extension": ".py",
   "mimetype": "text/x-python",
   "name": "python",
   "nbconvert_exporter": "python",
   "pygments_lexer": "ipython3",
   "version": "3.11.7"
  }
 },
 "nbformat": 4,
 "nbformat_minor": 5
}

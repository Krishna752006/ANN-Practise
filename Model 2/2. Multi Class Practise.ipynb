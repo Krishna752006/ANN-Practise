{
 "cells": [
  {
   "cell_type": "code",
   "execution_count": 1,
   "id": "563e81f7-fd27-4a11-946c-670dad648a71",
   "metadata": {},
   "outputs": [],
   "source": [
    "import numpy as np\n",
    "import matplotlib.pyplot as plt"
   ]
  },
  {
   "cell_type": "code",
   "execution_count": 3,
   "id": "8b088f54-cc39-4f32-ad8a-2a2c86797672",
   "metadata": {},
   "outputs": [],
   "source": [
    "x_train = np.loadtxt('train_X.csv', delimiter = ',')\n",
    "y_train = np.loadtxt('train_label.csv', delimiter = ',')\n",
    "x_test = np.loadtxt('test_X.csv', delimiter = ',',)\n",
    "y_test = np.loadtxt('test_label.csv', delimiter = ',')"
   ]
  },
  {
   "cell_type": "code",
   "execution_count": 5,
   "id": "e87deb70-d9f3-4d00-958f-8ff98e880599",
   "metadata": {},
   "outputs": [
    {
     "data": {
      "text/plain": [
       "((1000, 784), (350, 784), (1000, 10), (350, 10))"
      ]
     },
     "execution_count": 5,
     "metadata": {},
     "output_type": "execute_result"
    }
   ],
   "source": [
    "x_train.shape,x_test.shape,y_train.shape,y_test.shape"
   ]
  },
  {
   "cell_type": "code",
   "execution_count": 7,
   "id": "fceec415-b450-47f9-a367-39af73ae4afb",
   "metadata": {},
   "outputs": [
    {
     "data": {
      "image/png": "[encoded data removed]",
      "text/plain": [
       "<Figure size 640x480 with 1 Axes>"
      ]
     },
     "metadata": {},
     "output_type": "display_data"
    }
   ],
   "source": [
    "index = np.random.randint(0,x_train.shape[0])\n",
    "plt.imshow(x_train[index,:].reshape(28,28),cmap = 'grey')\n",
    "plt.show()"
   ]
  },
  {
   "cell_type": "code",
   "execution_count": 9,
   "id": "be5e7b23-f22a-4735-85fa-f4db3f249025",
   "metadata": {},
   "outputs": [],
   "source": [
    "def initialize_parameters(n_x,n_h,n_y):\n",
    "    np.random.seed(42)\n",
    "    w1 = np.random.randn(n_x,n_h)*0.003\n",
    "    b1 = np.zeros((1,n_h))\n",
    "    w2 = np.random.randn(n_h,n_y)*0.003\n",
    "    b2 = np.zeros((1,n_y))\n",
    "    return w1,b1,w2,b2"
   ]
  },
  {
   "cell_type": "code",
   "execution_count": 11,
   "id": "081f989e-6d13-424b-96ce-cb5d66734c15",
   "metadata": {},
   "outputs": [],
   "source": [
    "def relu(z):\n",
    "    return np.maximum(0,z)\n",
    "def tanh(z):\n",
    "    return np.tanh(z)\n",
    "def softmax(z):\n",
    "    expz = np.exp(z)\n",
    "    return expz/np.sum(expz,axis = 1,keepdims = True)"
   ]
  },
  {
   "cell_type": "code",
   "execution_count": 13,
   "id": "59702595-f3cb-4451-963b-f645850ef841",
   "metadata": {},
   "outputs": [],
   "source": [
    "def relu_derivative(z):\n",
    "    return np.where(z>0,1,0)\n",
    "def tanh_derivative(z):\n",
    "    return 1 - np.power(np.tanh(z),2)"
   ]
  },
  {
   "cell_type": "code",
   "execution_count": 15,
   "id": "32ca1633-03bb-4c91-8497-76022a5ed3bf",
   "metadata": {},
   "outputs": [],
   "source": [
    "def cost(y,a2):\n",
    "    bce = np.mean(-(y*np.log(a2)))\n",
    "    return bce"
   ]
  },
  {
   "cell_type": "code",
   "execution_count": 17,
   "id": "bb52700a-c7d2-4c2d-9be8-38f0b120907c",
   "metadata": {},
   "outputs": [],
   "source": [
    "def forward_propagation(x,w1,b1,w2,b2):\n",
    "    z1 = np.dot(x,w1) + b1\n",
    "    a1 = relu(z1)\n",
    "    z2 = np.dot(a1,w2) + b2\n",
    "    a2 = softmax(z2)\n",
    "    return z1,a1,z2,a2"
   ]
  },
  {
   "cell_type": "code",
   "execution_count": 19,
   "id": "68e407f7-589c-49c9-8845-7cc84b0d7b33",
   "metadata": {},
   "outputs": [],
   "source": [
    "def backward_propagation(x,y,z1,a1,a2,w2):\n",
    "    m = x.shape[0]\n",
    "    dz2 = a2 - y\n",
    "    dw2 = np.dot(a1.T,dz2)/m\n",
    "    db2 = np.sum(dz2,axis = 0,keepdims = True)/m\n",
    "\n",
    "    da1 = np.dot(dz2,w2.T)\n",
    "    dz1 = da1 * relu_derivative(z1)\n",
    "    dw1 = np.dot(x.T,dz1)/m\n",
    "    db1 = np.sum(dz1,axis = 0,keepdims = True)/m\n",
    "    return dw1,db1,dw2,db2"
   ]
  },
  {
   "cell_type": "code",
   "execution_count": 21,
   "id": "df8079db-77ef-4e7d-91e8-3fc34384575b",
   "metadata": {},
   "outputs": [],
   "source": [
    "def update_parameters(w1,b1,w2,b2,dw1,db1,dw2,db2,learning_rate):\n",
    "    w1 = w1 - learning_rate*dw1\n",
    "    b1 = b1 - learning_rate*db1\n",
    "    w2 = w2 - learning_rate*dw2\n",
    "    b2 = b2 - learning_rate*db2\n",
    "    return w1,b1,w2,b2"
   ]
  },
  {
   "cell_type": "code",
   "execution_count": 23,
   "id": "635d66ee-f4fe-4f1b-96ca-6cf896d2c62f",
   "metadata": {},
   "outputs": [],
   "source": [
    "def train_model(x,y,n_h,learning_rate,epochs):\n",
    "    n_x = x.shape[1]\n",
    "    n_y = y.shape[1]\n",
    "    costs = []\n",
    "    w1,b1,w2,b2 = initialize_parameters(n_x,n_h,n_y)\n",
    "    for i in range(1,epochs+1):\n",
    "        z1,a1,z2,a2 = forward_propagation(x,w1,b1,w2,b2)\n",
    "        costf = cost(y,a2)\n",
    "        costs.append(costf)\n",
    "        dw1,db1,dw2,db2 = backward_propagation(x,y,z1,a1,a2,w2)\n",
    "        w1,b1,w2,b2 = update_parameters(w1,b1,w2,b2,dw1,db1,dw2,db2,learning_rate)\n",
    "        if i == 1 or i%50 == 0:\n",
    "            print('Cost after ',i,' iterations = ',costf)\n",
    "    return costs,w1,b1,w2,b2"
   ]
  },
  {
   "cell_type": "code",
   "execution_count": 25,
   "id": "8e25b09c-86fb-4716-9b59-069054586167",
   "metadata": {},
   "outputs": [
    {
     "name": "stdout",
     "output_type": "stream",
     "text": [
      "Cost after  1  iterations =  0.23123227196520674\n",
      "Cost after  50  iterations =  0.0465491619804933\n",
      "Cost after  100  iterations =  0.02604228249040858\n",
      "Cost after  150  iterations =  0.01714936297078195\n",
      "Cost after  200  iterations =  0.01185159784861562\n",
      "Cost after  250  iterations =  0.008418645783616159\n",
      "Cost after  300  iterations =  0.00617632182279991\n",
      "Cost after  350  iterations =  0.004704159216019505\n",
      "Cost after  400  iterations =  0.003707521127727884\n",
      "Cost after  450  iterations =  0.0030110751809234748\n",
      "Cost after  500  iterations =  0.002506385464874808\n"
     ]
    }
   ],
   "source": [
    "costs,w1,b1,w2,b2 = train_model(x_train,y_train,n_h = 100,learning_rate = 0.001,epochs = 500)"
   ]
  },
  {
   "cell_type": "code",
   "execution_count": 27,
   "id": "5683f70d-b44b-45b8-9ffd-ab1735f62efd",
   "metadata": {},
   "outputs": [
    {
     "data": {
      "image/png": "[encoded data removed]",
      "text/plain": [
       "<Figure size 640x480 with 1 Axes>"
      ]
     },
     "metadata": {},
     "output_type": "display_data"
    }
   ],
   "source": [
    "t = np.arange(1,501)\n",
    "plt.plot(t,costs)\n",
    "plt.show()"
   ]
  },
  {
   "cell_type": "code",
   "execution_count": 33,
   "id": "69b8d40f-317c-40f9-9656-bc841de4c663",
   "metadata": {},
   "outputs": [],
   "source": [
    "def accuracy(x,y,w1,b1,w2,b2):\n",
    "    z1,a1,z2,a2 = forward_propagation(x,w1,b1,w2,b2)\n",
    "    a_out = np.argmax(a2,1,keepdims = True)\n",
    "    y_out = np.argmax(y,1,keepdims = True)\n",
    "    acc = np.mean(a_out == y_out)*100\n",
    "    return acc"
   ]
  },
  {
   "cell_type": "code",
   "execution_count": 37,
   "id": "c1f9777f-afea-4f6d-ab96-060a1a356a40",
   "metadata": {},
   "outputs": [
    {
     "name": "stdout",
     "output_type": "stream",
     "text": [
      "Train Accuracy =  100.0 %\n",
      "Test Accuracy =  86.57 %\n"
     ]
    }
   ],
   "source": [
    "print('Train Accuracy = ',accuracy(x_train,y_train,w1,b1,w2,b2),'%')\n",
    "print('Test Accuracy = ',round(accuracy(x_test,y_test,w1,b1,w2,b2),2),'%')"
   ]
  },
  {
   "cell_type": "code",
   "execution_count": 60,
   "id": "b44c5815-03cb-4bfe-a694-fc0985ad375a",
   "metadata": {},
   "outputs": [
    {
     "data": {
      "image/png": "[encoded data removed]",
      "text/plain": [
       "<Figure size 640x480 with 1 Axes>"
      ]
     },
     "metadata": {},
     "output_type": "display_data"
    },
    {
     "name": "stdout",
     "output_type": "stream",
     "text": [
      "Our Model Says:  9\n"
     ]
    }
   ],
   "source": [
    "index = np.random.randint(0,x_test.shape[0])\n",
    "plt.imshow(x_test[index,:].reshape(28,28),cmap = 'grey')\n",
    "plt.show()\n",
    "\n",
    "z1,a1,z2,a2 = forward_propagation(x_test[index,:].reshape(1,x_test.shape[1]),w1,b1,w2,b2)\n",
    "a_out = np.argmax(a2,1,keepdims = True)\n",
    "print('Our Model Says: ',a_out[0][0])"
   ]
  }
 ],
 "metadata": {
  "kernelspec": {
   "display_name": "Python 3 (ipykernel)",
   "language": "python",
   "name": "python3"
  },
  "language_info": {
   "codemirror_mode": {
    "name": "ipython",
    "version": 3
   },
   "file_extension": ".py",
   "mimetype": "text/x-python",
   "name": "python",
   "nbconvert_exporter": "python",
   "pygments_lexer": "ipython3",
   "version": "3.11.7"
  }
 },
 "nbformat": 4,
 "nbformat_minor": 5
}
